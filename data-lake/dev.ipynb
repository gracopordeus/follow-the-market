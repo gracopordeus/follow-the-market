{
 "cells": [
  {
   "cell_type": "code",
   "execution_count": 2,
   "metadata": {},
   "outputs": [],
   "source": [
    "import requests\n",
    "from bs4 import BeautifulSoup\n",
    "import os\n",
    "import polars as pl\n",
    "from zipfile import ZipFile\n",
    "from datetime import datetime\n",
    "from tqdm import tqdm\n",
    "import time\n",
    "\n",
    "import utils.source\n",
    "\n",
    "from utils.request_market_data import (\n",
    "    request_prices_to_landing,\n",
    "    write_prices_to_raw,\n",
    "    read_prices_from_lake,\n",
    "    trasnform_trusted_prices\n",
    ")\n",
    "\n",
    "from utils.request_cvm_ciasabertas import (\n",
    "    download_files,\n",
    "    read_files_from_landing,\n",
    "    write_files_to_lake,\n",
    "    read_files_from_lake,\n",
    "    trasnform_trusted_accounts,\n",
    "    trasnform_trusted_tickers\n",
    ")\n"
   ]
  },
  {
   "cell_type": "code",
   "execution_count": 2,
   "metadata": {},
   "outputs": [
    {
     "data": {
      "text/plain": [
       "OrderedDict([('date', Date),\n",
       "             ('open', Float64),\n",
       "             ('high', Float64),\n",
       "             ('low', Float64),\n",
       "             ('close', Float64),\n",
       "             ('adjusted_close', Float64),\n",
       "             ('volume', Int64),\n",
       "             ('dividend_amount', Float64),\n",
       "             ('split_coefficient', Float64)])"
      ]
     },
     "execution_count": 2,
     "metadata": {},
     "output_type": "execute_result"
    }
   ],
   "source": [
    "read_prices_from_lake('raw', 'vale3').schema"
   ]
  },
  {
   "cell_type": "code",
   "execution_count": 3,
   "metadata": {},
   "outputs": [],
   "source": [
    "df = read_files_from_lake(zone='refined', table='active_companies')"
   ]
  },
  {
   "cell_type": "code",
   "execution_count": 4,
   "metadata": {},
   "outputs": [
    {
     "name": "stderr",
     "output_type": "stream",
     "text": [
      "100%|██████████| 450/450 [00:00<00:00, 986.96it/s]\n"
     ]
    }
   ],
   "source": [
    "prices = trasnform_trusted_prices(df['STOCK'])"
   ]
  },
  {
   "cell_type": "code",
   "execution_count": 5,
   "metadata": {},
   "outputs": [],
   "source": [
    "write_files_to_lake(\n",
    "    df = prices,\n",
    "    zone = 'trusted',\n",
    "    table = 'prices'\n",
    ")"
   ]
  },
  {
   "cell_type": "code",
   "execution_count": 21,
   "metadata": {},
   "outputs": [
    {
     "data": {
      "text/html": [
       "<div><style>\n",
       ".dataframe > thead > tr,\n",
       ".dataframe > tbody > tr {\n",
       "  text-align: right;\n",
       "  white-space: pre-wrap;\n",
       "}\n",
       "</style>\n",
       "<small>shape: (739_086, 10)</small><table border=\"1\" class=\"dataframe\"><thead><tr><th>date</th><th>open</th><th>high</th><th>low</th><th>close</th><th>adjusted_close</th><th>volume</th><th>dividend_amount</th><th>split_coefficient</th><th>STOCK</th></tr><tr><td>date</td><td>f64</td><td>f64</td><td>f64</td><td>f64</td><td>f64</td><td>i64</td><td>f64</td><td>f64</td><td>str</td></tr></thead><tbody><tr><td>2019-05-20</td><td>23.01</td><td>24.48</td><td>23.0</td><td>23.8</td><td>23.8</td><td>6600</td><td>0.0</td><td>1.0</td><td>&quot;SEDU3&quot;</td></tr><tr><td>2019-05-17</td><td>23.3</td><td>23.3</td><td>23.3</td><td>23.3</td><td>23.3</td><td>0</td><td>0.0</td><td>1.0</td><td>&quot;SEDU3&quot;</td></tr><tr><td>2019-05-16</td><td>23.08</td><td>23.9</td><td>23.08</td><td>23.9</td><td>23.9</td><td>5000</td><td>0.0</td><td>1.0</td><td>&quot;SEDU3&quot;</td></tr><tr><td>2019-05-15</td><td>25.06</td><td>25.06</td><td>23.6</td><td>23.6</td><td>23.6</td><td>10000</td><td>0.0</td><td>1.0</td><td>&quot;SEDU3&quot;</td></tr><tr><td>2019-05-14</td><td>24.48</td><td>24.55</td><td>24.21</td><td>24.54</td><td>24.54</td><td>11200</td><td>0.0</td><td>1.0</td><td>&quot;SEDU3&quot;</td></tr><tr><td>2019-05-13</td><td>24.55</td><td>24.55</td><td>23.15</td><td>24.55</td><td>24.55</td><td>7900</td><td>0.0</td><td>1.0</td><td>&quot;SEDU3&quot;</td></tr><tr><td>2019-05-10</td><td>22.97</td><td>23.5</td><td>22.7</td><td>23.48</td><td>23.48</td><td>8000</td><td>0.0</td><td>1.0</td><td>&quot;SEDU3&quot;</td></tr><tr><td>2019-05-09</td><td>23.24</td><td>23.4</td><td>23.02</td><td>23.2</td><td>23.2</td><td>20700</td><td>0.0</td><td>1.0</td><td>&quot;SEDU3&quot;</td></tr><tr><td>2019-05-08</td><td>23.97</td><td>23.97</td><td>23.03</td><td>23.1</td><td>23.1</td><td>24700</td><td>0.0</td><td>1.0</td><td>&quot;SEDU3&quot;</td></tr><tr><td>2019-05-07</td><td>22.62</td><td>23.6</td><td>22.62</td><td>23.6</td><td>23.6</td><td>49900</td><td>0.0</td><td>1.0</td><td>&quot;SEDU3&quot;</td></tr><tr><td>2019-05-06</td><td>22.6</td><td>22.99</td><td>22.56</td><td>22.99</td><td>22.99</td><td>28600</td><td>0.0</td><td>1.0</td><td>&quot;SEDU3&quot;</td></tr><tr><td>2019-05-03</td><td>22.65</td><td>22.72</td><td>22.61</td><td>22.72</td><td>22.72</td><td>25800</td><td>0.0</td><td>1.0</td><td>&quot;SEDU3&quot;</td></tr><tr><td>&hellip;</td><td>&hellip;</td><td>&hellip;</td><td>&hellip;</td><td>&hellip;</td><td>&hellip;</td><td>&hellip;</td><td>&hellip;</td><td>&hellip;</td><td>&hellip;</td></tr><tr><td>2012-01-04</td><td>210.01</td><td>210.01</td><td>210.01</td><td>210.01</td><td>167.0205</td><td>0</td><td>0.0</td><td>1.0</td><td>&quot;CORR4&quot;</td></tr><tr><td>2012-01-03</td><td>210.01</td><td>210.01</td><td>210.01</td><td>210.01</td><td>167.0205</td><td>0</td><td>0.0</td><td>1.0</td><td>&quot;CORR4&quot;</td></tr><tr><td>2012-01-02</td><td>210.01</td><td>210.01</td><td>210.01</td><td>210.01</td><td>167.0205</td><td>0</td><td>0.0</td><td>1.0</td><td>&quot;CORR4&quot;</td></tr><tr><td>2011-12-29</td><td>210.01</td><td>210.01</td><td>210.01</td><td>210.01</td><td>167.0205</td><td>0</td><td>0.0</td><td>1.0</td><td>&quot;CORR4&quot;</td></tr><tr><td>2011-12-28</td><td>210.01</td><td>210.01</td><td>210.01</td><td>210.01</td><td>167.0205</td><td>0</td><td>0.0</td><td>1.0</td><td>&quot;CORR4&quot;</td></tr><tr><td>2011-12-27</td><td>210.01</td><td>210.01</td><td>210.01</td><td>210.01</td><td>167.0205</td><td>0</td><td>0.0</td><td>1.0</td><td>&quot;CORR4&quot;</td></tr><tr><td>2011-12-26</td><td>210.01</td><td>210.01</td><td>210.01</td><td>210.01</td><td>167.0205</td><td>0</td><td>0.0</td><td>1.0</td><td>&quot;CORR4&quot;</td></tr><tr><td>2011-12-23</td><td>210.01</td><td>210.01</td><td>210.01</td><td>210.01</td><td>167.0205</td><td>0</td><td>0.0</td><td>1.0</td><td>&quot;CORR4&quot;</td></tr><tr><td>2011-12-22</td><td>210.01</td><td>210.01</td><td>210.01</td><td>210.01</td><td>167.0205</td><td>0</td><td>0.0</td><td>1.0</td><td>&quot;CORR4&quot;</td></tr><tr><td>2011-12-21</td><td>210.01</td><td>210.01</td><td>210.01</td><td>210.01</td><td>167.0205</td><td>0</td><td>0.0</td><td>1.0</td><td>&quot;CORR4&quot;</td></tr><tr><td>2011-12-20</td><td>210.01</td><td>210.01</td><td>210.01</td><td>210.01</td><td>167.0205</td><td>0</td><td>0.0</td><td>1.0</td><td>&quot;CORR4&quot;</td></tr><tr><td>2011-12-16</td><td>210.01</td><td>210.01</td><td>210.01</td><td>210.01</td><td>167.0205</td><td>0</td><td>0.0</td><td>1.0</td><td>&quot;CORR4&quot;</td></tr></tbody></table></div>"
      ],
      "text/plain": [
       "shape: (739_086, 10)\n",
       "┌────────────┬────────┬────────┬────────┬───┬────────┬─────────────────┬───────────────────┬───────┐\n",
       "│ date       ┆ open   ┆ high   ┆ low    ┆ … ┆ volume ┆ dividend_amount ┆ split_coefficient ┆ STOCK │\n",
       "│ ---        ┆ ---    ┆ ---    ┆ ---    ┆   ┆ ---    ┆ ---             ┆ ---               ┆ ---   │\n",
       "│ date       ┆ f64    ┆ f64    ┆ f64    ┆   ┆ i64    ┆ f64             ┆ f64               ┆ str   │\n",
       "╞════════════╪════════╪════════╪════════╪═══╪════════╪═════════════════╪═══════════════════╪═══════╡\n",
       "│ 2019-05-20 ┆ 23.01  ┆ 24.48  ┆ 23.0   ┆ … ┆ 6600   ┆ 0.0             ┆ 1.0               ┆ SEDU3 │\n",
       "│ 2019-05-17 ┆ 23.3   ┆ 23.3   ┆ 23.3   ┆ … ┆ 0      ┆ 0.0             ┆ 1.0               ┆ SEDU3 │\n",
       "│ 2019-05-16 ┆ 23.08  ┆ 23.9   ┆ 23.08  ┆ … ┆ 5000   ┆ 0.0             ┆ 1.0               ┆ SEDU3 │\n",
       "│ 2019-05-15 ┆ 25.06  ┆ 25.06  ┆ 23.6   ┆ … ┆ 10000  ┆ 0.0             ┆ 1.0               ┆ SEDU3 │\n",
       "│ …          ┆ …      ┆ …      ┆ …      ┆ … ┆ …      ┆ …               ┆ …                 ┆ …     │\n",
       "│ 2011-12-22 ┆ 210.01 ┆ 210.01 ┆ 210.01 ┆ … ┆ 0      ┆ 0.0             ┆ 1.0               ┆ CORR4 │\n",
       "│ 2011-12-21 ┆ 210.01 ┆ 210.01 ┆ 210.01 ┆ … ┆ 0      ┆ 0.0             ┆ 1.0               ┆ CORR4 │\n",
       "│ 2011-12-20 ┆ 210.01 ┆ 210.01 ┆ 210.01 ┆ … ┆ 0      ┆ 0.0             ┆ 1.0               ┆ CORR4 │\n",
       "│ 2011-12-16 ┆ 210.01 ┆ 210.01 ┆ 210.01 ┆ … ┆ 0      ┆ 0.0             ┆ 1.0               ┆ CORR4 │\n",
       "└────────────┴────────┴────────┴────────┴───┴────────┴─────────────────┴───────────────────┴───────┘"
      ]
     },
     "execution_count": 21,
     "metadata": {},
     "output_type": "execute_result"
    }
   ],
   "source": [
    "x"
   ]
  },
  {
   "cell_type": "code",
   "execution_count": null,
   "metadata": {},
   "outputs": [],
   "source": []
  }
 ],
 "metadata": {
  "kernelspec": {
   "display_name": "Python 3",
   "language": "python",
   "name": "python3"
  },
  "language_info": {
   "codemirror_mode": {
    "name": "ipython",
    "version": 3
   },
   "file_extension": ".py",
   "mimetype": "text/x-python",
   "name": "python",
   "nbconvert_exporter": "python",
   "pygments_lexer": "ipython3",
   "version": "3.10.12"
  }
 },
 "nbformat": 4,
 "nbformat_minor": 2
}
