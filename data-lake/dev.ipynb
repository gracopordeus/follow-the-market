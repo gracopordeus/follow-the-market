{
 "cells": [
  {
   "cell_type": "code",
   "execution_count": 1,
   "metadata": {},
   "outputs": [],
   "source": [
    "import matplotlib.pyplot as plt\n",
    "from tqdm import tqdm\n",
    "import polars as pl\n",
    "\n",
    "from datetime import datetime\n",
    "import time\n",
    "\n",
    "import utils.source\n",
    "\n",
    "from utils.request_market_data import (\n",
    "    request_prices_to_landing,\n",
    "    write_prices_to_raw,\n",
    "    trasnform_trusted_prices\n",
    ")\n",
    "\n",
    "from utils.request_cvm_ciasabertas import (\n",
    "    download_files,\n",
    "    read_files_from_landing,\n",
    "    write_files_to_lake,\n",
    "    read_files_from_lake,\n",
    "    trasnform_trusted_accounts,\n",
    "    trasnform_trusted_tickers,\n",
    "    transform_trusted_stocks,\n",
    "    trasnform_refined_accounts\n",
    ")\n",
    "\n",
    "from utils.indicators_consolidation import (\n",
    "    consolidate_accounts\n",
    ")\n"
   ]
  },
  {
   "cell_type": "code",
   "execution_count": 66,
   "metadata": {},
   "outputs": [],
   "source": [
    "accounts = (\n",
    "    consolidate_accounts()\n",
    "    .with_columns_seq(\n",
    "        QUARTER = pl.col('DT_REFER').dt.quarter(),\n",
    "        YEAR = pl.col('DT_REFER').dt.year() \n",
    "    )\n",
    ")"
   ]
  },
  {
   "cell_type": "code",
   "execution_count": 68,
   "metadata": {},
   "outputs": [],
   "source": [
    "stocks = (\n",
    "    read_files_from_lake(table='fre/capital_social', zone='trusted')\n",
    "    .with_columns_seq(\n",
    "        QUARTER = pl.col('DT_REFER').dt.quarter(),\n",
    "        YEAR = pl.col('DT_REFER').dt.year() \n",
    "    )\n",
    "    .select(\n",
    "        pl.col('QUARTER'),\n",
    "        pl.col('YEAR'),\n",
    "        pl.col('CNPJ'),\n",
    "        pl.col('TOTAL_STOCKS')\n",
    "    )\n",
    ")\n"
   ]
  },
  {
   "cell_type": "code",
   "execution_count": 113,
   "metadata": {},
   "outputs": [],
   "source": [
    "x = (\n",
    "    accounts\n",
    "    .join(\n",
    "        stocks,\n",
    "        on = ['CNPJ', 'QUARTER', 'YEAR'],\n",
    "        how = 'left'\n",
    "    )\n",
    "    .sort('DT_REFER', 'CNPJ')\n",
    "    .with_columns(\n",
    "        pl.col('TOTAL_STOCKS').fill_null(strategy=\"forward\").over(['CNPJ'])\n",
    "    )\n",
    "    .with_columns(\n",
    "        pl.col('TOTAL_STOCKS').fill_null(strategy=\"backward\").over(['CNPJ'])\n",
    "    )\n",
    ")"
   ]
  },
  {
   "cell_type": "code",
   "execution_count": 51,
   "metadata": {},
   "outputs": [
    {
     "data": {
      "text/plain": [
       "OrderedDict([('CNPJ', Utf8),\n",
       "             ('DT_REFER', Date),\n",
       "             ('ON_STOCKS', Int64),\n",
       "             ('PN_STOCKS', Int64),\n",
       "             ('TOTAL_STOCKS', Int64)])"
      ]
     },
     "execution_count": 51,
     "metadata": {},
     "output_type": "execute_result"
    }
   ],
   "source": [
    "stocks.schema"
   ]
  },
  {
   "cell_type": "code",
   "execution_count": 38,
   "metadata": {},
   "outputs": [],
   "source": [
    "active_companies = (\n",
    "    read_files_from_lake(table='active_companies', zone='refined')\n",
    "    .select(\n",
    "        pl.col('CNPJ'),\n",
    "        pl.col('STOCK'),\n",
    "        pl.col('SEGMENTO')\n",
    "    )\n",
    ")\n"
   ]
  },
  {
   "cell_type": "code",
   "execution_count": 43,
   "metadata": {},
   "outputs": [
    {
     "data": {
      "text/plain": [
       "OrderedDict([('STOCK', Utf8),\n",
       "             ('QUARTER', UInt32),\n",
       "             ('YEAR', Int32),\n",
       "             ('PRICE', Float64)])"
      ]
     },
     "execution_count": 43,
     "metadata": {},
     "output_type": "execute_result"
    }
   ],
   "source": [
    "prices_t = (\n",
    "    read_files_from_lake(table='prices', zone='trusted')\n",
    "    .with_columns(\n",
    "        QUARTER = pl.col('date').dt.quarter()\n",
    "    )\n",
    "    .with_columns(\n",
    "        YEAR = pl.when(pl.col('QUARTER')==4)\n",
    "            .then(pl.col('date').dt.year()+1)\n",
    "            .otherwise(pl.col('date').dt.year())  \n",
    "    )\n",
    "    .with_columns(\n",
    "        QUARTER = pl.when(pl.col('QUARTER')==4)\n",
    "            .then(pl.lit(1))\n",
    "            .otherwise(pl.col('QUARTER')+1) \n",
    "    )\n",
    "    .group_by(\n",
    "        ['STOCK', 'QUARTER', 'YEAR']\n",
    "    )\n",
    "    .agg(\n",
    "        pl.col(\"adjusted_close\").median().alias(\"PRICE\")\n",
    "    )\n",
    ")\n",
    "\n",
    "prices_t.schema"
   ]
  },
  {
   "cell_type": "code",
   "execution_count": 46,
   "metadata": {},
   "outputs": [],
   "source": [
    "df_consolidated = (\n",
    "    active_companies\n",
    "    .join(\n",
    "        df,\n",
    "        on = ['CNPJ'],\n",
    "        how = 'inner'\n",
    "    )\n",
    "    .join(\n",
    "        prices_t,\n",
    "        on = ['STOCK', 'YEAR', 'QUARTER'],\n",
    "        how = 'inner'\n",
    "    )\n",
    ")"
   ]
  },
  {
   "cell_type": "code",
   "execution_count": 47,
   "metadata": {},
   "outputs": [
    {
     "data": {
      "text/plain": [
       "OrderedDict([('CNPJ', Utf8),\n",
       "             ('STOCK', Utf8),\n",
       "             ('SEGMENTO', Utf8),\n",
       "             ('DT_REFER', Date),\n",
       "             ('CD_CVM', Int64),\n",
       "             ('RECEITA', Float64),\n",
       "             ('LUCRO', Float64),\n",
       "             ('ATIVO_TOTAL', Float64),\n",
       "             ('ATIVO_CIRCULANTE', Float64),\n",
       "             ('PASSIVO_TOTAL', Float64),\n",
       "             ('PASSIVO_CIRCULANTE', Float64),\n",
       "             ('PATRIMONIO_LIQUIDO', Float64),\n",
       "             ('QUARTER', UInt32),\n",
       "             ('YEAR', Int32),\n",
       "             ('PRICE', Float64)])"
      ]
     },
     "execution_count": 47,
     "metadata": {},
     "output_type": "execute_result"
    }
   ],
   "source": [
    "df_consolidated.schema"
   ]
  },
  {
   "cell_type": "code",
   "execution_count": 23,
   "metadata": {},
   "outputs": [
    {
     "data": {
      "text/html": [
       "<div><style>\n",
       ".dataframe > thead > tr,\n",
       ".dataframe > tbody > tr {\n",
       "  text-align: right;\n",
       "  white-space: pre-wrap;\n",
       "}\n",
       "</style>\n",
       "<small>shape: (13_782, 4)</small><table border=\"1\" class=\"dataframe\"><thead><tr><th>STOCK</th><th>QUARTER</th><th>YEAR</th><th>PRICE</th></tr><tr><td>str</td><td>u32</td><td>i32</td><td>f64</td></tr></thead><tbody><tr><td>&quot;SEDU3&quot;</td><td>1</td><td>2019</td><td>22.05</td></tr><tr><td>&quot;OGXP3&quot;</td><td>2</td><td>2014</td><td>19.0</td></tr><tr><td>&quot;OGXP3&quot;</td><td>3</td><td>2011</td><td>1175.0</td></tr><tr><td>&quot;ENAT3&quot;</td><td>4</td><td>2021</td><td>12.5239</td></tr><tr><td>&quot;ENAT3&quot;</td><td>1</td><td>2012</td><td>8.0251</td></tr><tr><td>&quot;ENAT3&quot;</td><td>4</td><td>2011</td><td>8.8835</td></tr><tr><td>&quot;PETR3&quot;</td><td>2</td><td>2022</td><td>18.4067</td></tr><tr><td>&quot;PETR3&quot;</td><td>1</td><td>2015</td><td>3.477</td></tr><tr><td>&quot;PETR3&quot;</td><td>2</td><td>2010</td><td>11.25725</td></tr><tr><td>&quot;TPIS3&quot;</td><td>2</td><td>2023</td><td>3.27</td></tr><tr><td>&quot;TPIS3&quot;</td><td>2</td><td>2013</td><td>8.5234</td></tr><tr><td>&quot;TPIS3&quot;</td><td>2</td><td>2011</td><td>6.3086</td></tr><tr><td>&hellip;</td><td>&hellip;</td><td>&hellip;</td><td>&hellip;</td></tr><tr><td>&quot;RSUL4&quot;</td><td>2</td><td>2010</td><td>9.1681</td></tr><tr><td>&quot;SLED3&quot;</td><td>1</td><td>2016</td><td>121.1347</td></tr><tr><td>&quot;JFEN3&quot;</td><td>1</td><td>2016</td><td>24.8</td></tr><tr><td>&quot;AZEV3&quot;</td><td>2</td><td>2014</td><td>9.96055</td></tr><tr><td>&quot;ELEK3&quot;</td><td>3</td><td>2015</td><td>5.7308</td></tr><tr><td>&quot;BRGE6&quot;</td><td>3</td><td>2016</td><td>4.223</td></tr><tr><td>&quot;CRPG3&quot;</td><td>2</td><td>2010</td><td>10.9738</td></tr><tr><td>&quot;ELEK3&quot;</td><td>4</td><td>2014</td><td>5.9518</td></tr><tr><td>&quot;CEBR3&quot;</td><td>2</td><td>2011</td><td>1.2376</td></tr><tr><td>&quot;RSUL4&quot;</td><td>2</td><td>2017</td><td>1.6763</td></tr><tr><td>&quot;RPAD6&quot;</td><td>4</td><td>2014</td><td>2.1081</td></tr><tr><td>&quot;SNSY3&quot;</td><td>2</td><td>2011</td><td>1.51</td></tr></tbody></table></div>"
      ],
      "text/plain": [
       "shape: (13_782, 4)\n",
       "┌───────┬─────────┬──────┬─────────┐\n",
       "│ STOCK ┆ QUARTER ┆ YEAR ┆ PRICE   │\n",
       "│ ---   ┆ ---     ┆ ---  ┆ ---     │\n",
       "│ str   ┆ u32     ┆ i32  ┆ f64     │\n",
       "╞═══════╪═════════╪══════╪═════════╡\n",
       "│ SEDU3 ┆ 1       ┆ 2019 ┆ 22.05   │\n",
       "│ OGXP3 ┆ 2       ┆ 2014 ┆ 19.0    │\n",
       "│ OGXP3 ┆ 3       ┆ 2011 ┆ 1175.0  │\n",
       "│ ENAT3 ┆ 4       ┆ 2021 ┆ 12.5239 │\n",
       "│ …     ┆ …       ┆ …    ┆ …       │\n",
       "│ CEBR3 ┆ 2       ┆ 2011 ┆ 1.2376  │\n",
       "│ RSUL4 ┆ 2       ┆ 2017 ┆ 1.6763  │\n",
       "│ RPAD6 ┆ 4       ┆ 2014 ┆ 2.1081  │\n",
       "│ SNSY3 ┆ 2       ┆ 2011 ┆ 1.51    │\n",
       "└───────┴─────────┴──────┴─────────┘"
      ]
     },
     "execution_count": 23,
     "metadata": {},
     "output_type": "execute_result"
    }
   ],
   "source": [
    "prices_t"
   ]
  },
  {
   "cell_type": "code",
   "execution_count": null,
   "metadata": {},
   "outputs": [],
   "source": []
  }
 ],
 "metadata": {
  "kernelspec": {
   "display_name": "Python 3",
   "language": "python",
   "name": "python3"
  },
  "language_info": {
   "codemirror_mode": {
    "name": "ipython",
    "version": 3
   },
   "file_extension": ".py",
   "mimetype": "text/x-python",
   "name": "python",
   "nbconvert_exporter": "python",
   "pygments_lexer": "ipython3",
   "version": "3.10.12"
  }
 },
 "nbformat": 4,
 "nbformat_minor": 2
}
