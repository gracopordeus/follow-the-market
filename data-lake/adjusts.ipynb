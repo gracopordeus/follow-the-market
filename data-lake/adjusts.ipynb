{
 "cells": [
  {
   "cell_type": "code",
   "execution_count": 1,
   "metadata": {},
   "outputs": [],
   "source": [
    "import matplotlib.pyplot as plt\n",
    "from tqdm import tqdm\n",
    "import polars as pl\n",
    "\n",
    "from datetime import datetime\n",
    "import time\n",
    "\n",
    "import utils.source\n",
    "\n",
    "from utils.request_market_data import (\n",
    "    request_prices_to_landing,\n",
    "    write_prices_to_raw,\n",
    "    read_prices_from_lake,\n",
    "    trasnform_trusted_prices\n",
    ")\n",
    "\n",
    "from utils.request_cvm_ciasabertas import (\n",
    "    download_files,\n",
    "    read_files_from_landing,\n",
    "    write_files_to_lake,\n",
    "    read_files_from_lake,\n",
    "    trasnform_trusted_accounts,\n",
    "    trasnform_trusted_tickers,\n",
    "    transform_trusted_stocks,\n",
    "    trasnform_refined_accounts\n",
    ")\n"
   ]
  },
  {
   "cell_type": "code",
   "execution_count": 2,
   "metadata": {},
   "outputs": [],
   "source": [
    "(\n",
    "    read_files_from_lake(zone='raw', table='itr/dre')\n",
    "    .filter(pl.col('CNPJ_CIA')=='33.000.167/0001-01')\n",
    "    .with_columns(YEAR=pl.col('DT_REFER').dt.year())\n",
    "    .pivot(\n",
    "        index=['YEAR'],\n",
    "        columns='CD_CONTA',\n",
    "        values='VL_CONTA',\n",
    "        aggregate_function='count'\n",
    "    )\n",
    "    .sort('YEAR')\n",
    "    .write_csv(\"/home/glauco/follow-the-market/outputs/output.csv\")\n",
    ")"
   ]
  },
  {
   "cell_type": "code",
   "execution_count": 3,
   "metadata": {},
   "outputs": [],
   "source": [
    "DOCUMENT = 'fre'\n",
    "REPORT = 'capital_social'\n",
    "DIR = DOCUMENT+'/'+REPORT"
   ]
  },
  {
   "cell_type": "code",
   "execution_count": 4,
   "metadata": {},
   "outputs": [],
   "source": [
    "df = read_files_from_lake('raw', DIR)"
   ]
  },
  {
   "cell_type": "code",
   "execution_count": 5,
   "metadata": {},
   "outputs": [],
   "source": [
    "df = transform_trusted_stocks(df)"
   ]
  },
  {
   "cell_type": "code",
   "execution_count": 6,
   "metadata": {},
   "outputs": [],
   "source": [
    "write_files_to_lake(df, 'trusted', DIR)"
   ]
  },
  {
   "cell_type": "code",
   "execution_count": null,
   "metadata": {},
   "outputs": [],
   "source": [
    "\n",
    "\n",
    "\n",
    "\n",
    "if DOCUMENT == 'itr':\n",
    "    df = trasnform_trusted_accounts(df)\n",
    "elif DOCUMENT == 'fca':\n",
    "    df = trasnform_trusted_tickers(df)\n",
    "\n",
    "write_files_to_lake(df, 'trusted', DIR)"
   ]
  }
 ],
 "metadata": {
  "kernelspec": {
   "display_name": "Python 3",
   "language": "python",
   "name": "python3"
  },
  "language_info": {
   "codemirror_mode": {
    "name": "ipython",
    "version": 3
   },
   "file_extension": ".py",
   "mimetype": "text/x-python",
   "name": "python",
   "nbconvert_exporter": "python",
   "pygments_lexer": "ipython3",
   "version": "3.10.12"
  }
 },
 "nbformat": 4,
 "nbformat_minor": 2
}
