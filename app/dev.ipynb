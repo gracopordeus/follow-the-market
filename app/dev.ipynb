{
 "cells": [
  {
   "cell_type": "code",
   "execution_count": 1,
   "metadata": {},
   "outputs": [],
   "source": [
    "import requests\n",
    "from bs4 import BeautifulSoup\n",
    "import os\n",
    "import polars as pl\n",
    "from zipfile import ZipFile\n",
    "\n",
    "import source\n",
    "from extractions import (\n",
    "    cvmDownloadFiles,\n",
    "    cvmReadFromLanding,\n",
    "    cvmWriteFiles,\n",
    "    cvmReadFiles\n",
    ")\n"
   ]
  },
  {
   "cell_type": "code",
   "execution_count": 3,
   "metadata": {},
   "outputs": [
    {
     "name": "stdout",
     "output_type": "stream",
     "text": [
      "Downloaded file: /media/glauco/HDD1/followTheMarket/itr_cia_aberta_2011.zip\n",
      "Downloaded file: /media/glauco/HDD1/followTheMarket/itr_cia_aberta_2012.zip\n",
      "Downloaded file: /media/glauco/HDD1/followTheMarket/itr_cia_aberta_2013.zip\n",
      "Downloaded file: /media/glauco/HDD1/followTheMarket/itr_cia_aberta_2014.zip\n",
      "Downloaded file: /media/glauco/HDD1/followTheMarket/itr_cia_aberta_2015.zip\n",
      "Downloaded file: /media/glauco/HDD1/followTheMarket/itr_cia_aberta_2016.zip\n",
      "Downloaded file: /media/glauco/HDD1/followTheMarket/itr_cia_aberta_2017.zip\n",
      "Downloaded file: /media/glauco/HDD1/followTheMarket/itr_cia_aberta_2018.zip\n",
      "Downloaded file: /media/glauco/HDD1/followTheMarket/itr_cia_aberta_2019.zip\n",
      "Downloaded file: /media/glauco/HDD1/followTheMarket/itr_cia_aberta_2020.zip\n",
      "Downloaded file: /media/glauco/HDD1/followTheMarket/itr_cia_aberta_2021.zip\n",
      "Downloaded file: /media/glauco/HDD1/followTheMarket/itr_cia_aberta_2022.zip\n",
      "Downloaded file: /media/glauco/HDD1/followTheMarket/itr_cia_aberta_2023.zip\n"
     ]
    }
   ],
   "source": [
    "#cvmDownloadFiles('itr')"
   ]
  },
  {
   "cell_type": "code",
   "execution_count": 2,
   "metadata": {},
   "outputs": [
    {
     "data": {
      "text/plain": [
       "OrderedDict([('CNPJ_CIA', Utf8),\n",
       "             ('DT_REFER', Date),\n",
       "             ('VERSAO', Int64),\n",
       "             ('DENOM_CIA', Utf8),\n",
       "             ('CD_CVM', Int64),\n",
       "             ('GRUPO_DFP', Utf8),\n",
       "             ('MOEDA', Utf8),\n",
       "             ('ESCALA_MOEDA', Utf8),\n",
       "             ('ORDEM_EXERC', Utf8),\n",
       "             ('DT_INI_EXERC', Date),\n",
       "             ('DT_FIM_EXERC', Date),\n",
       "             ('CD_CONTA', Utf8),\n",
       "             ('DS_CONTA', Utf8),\n",
       "             ('VL_CONTA', Float64),\n",
       "             ('ST_CONTA_FIXA', Utf8)])"
      ]
     },
     "execution_count": 2,
     "metadata": {},
     "output_type": "execute_result"
    }
   ],
   "source": [
    "df = cvmReadFiles('raw', 'dre')\n",
    "df.schema"
   ]
  },
  {
   "cell_type": "code",
   "execution_count": null,
   "metadata": {},
   "outputs": [],
   "source": []
  }
 ],
 "metadata": {
  "kernelspec": {
   "display_name": "Python 3",
   "language": "python",
   "name": "python3"
  },
  "language_info": {
   "codemirror_mode": {
    "name": "ipython",
    "version": 3
   },
   "file_extension": ".py",
   "mimetype": "text/x-python",
   "name": "python",
   "nbconvert_exporter": "python",
   "pygments_lexer": "ipython3",
   "version": "3.10.12"
  }
 },
 "nbformat": 4,
 "nbformat_minor": 2
}
