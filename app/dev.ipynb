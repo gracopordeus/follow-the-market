{
 "cells": [
  {
   "cell_type": "code",
   "execution_count": 1,
   "metadata": {},
   "outputs": [],
   "source": [
    "import requests\n",
    "from bs4 import BeautifulSoup\n",
    "import os\n",
    "import polars as pl\n",
    "from zipfile import ZipFile\n",
    "from datetime import datetime\n",
    "\n",
    "import source\n",
    "from extractions import (\n",
    "    download_files,\n",
    "    read_files_from_landing,\n",
    "    write_files_to_lake,\n",
    "    read_files_from_lake\n",
    ")\n"
   ]
  },
  {
   "cell_type": "code",
   "execution_count": 3,
   "metadata": {},
   "outputs": [
    {
     "name": "stdout",
     "output_type": "stream",
     "text": [
      "Downloaded file: /media/glauco/HDD1/followTheMarket/itr_cia_aberta_2011.zip\n",
      "Downloaded file: /media/glauco/HDD1/followTheMarket/itr_cia_aberta_2012.zip\n",
      "Downloaded file: /media/glauco/HDD1/followTheMarket/itr_cia_aberta_2013.zip\n",
      "Downloaded file: /media/glauco/HDD1/followTheMarket/itr_cia_aberta_2014.zip\n",
      "Downloaded file: /media/glauco/HDD1/followTheMarket/itr_cia_aberta_2015.zip\n",
      "Downloaded file: /media/glauco/HDD1/followTheMarket/itr_cia_aberta_2016.zip\n",
      "Downloaded file: /media/glauco/HDD1/followTheMarket/itr_cia_aberta_2017.zip\n",
      "Downloaded file: /media/glauco/HDD1/followTheMarket/itr_cia_aberta_2018.zip\n",
      "Downloaded file: /media/glauco/HDD1/followTheMarket/itr_cia_aberta_2019.zip\n",
      "Downloaded file: /media/glauco/HDD1/followTheMarket/itr_cia_aberta_2020.zip\n",
      "Downloaded file: /media/glauco/HDD1/followTheMarket/itr_cia_aberta_2021.zip\n",
      "Downloaded file: /media/glauco/HDD1/followTheMarket/itr_cia_aberta_2022.zip\n",
      "Downloaded file: /media/glauco/HDD1/followTheMarket/itr_cia_aberta_2023.zip\n"
     ]
    }
   ],
   "source": [
    "#cvmDownloadFiles('itr')"
   ]
  },
  {
   "cell_type": "code",
   "execution_count": 2,
   "metadata": {},
   "outputs": [],
   "source": [
    "df = read_files_from_landing('itr','dre')"
   ]
  },
  {
   "cell_type": "code",
   "execution_count": 3,
   "metadata": {},
   "outputs": [],
   "source": [
    "write_files_to_lake(df, 'raw', 'dre')"
   ]
  },
  {
   "cell_type": "code",
   "execution_count": 12,
   "metadata": {},
   "outputs": [
    {
     "data": {
      "text/plain": [
       "OrderedDict([('CNPJ_CIA', Utf8),\n",
       "             ('DT_REFER', Date),\n",
       "             ('VERSAO', Int64),\n",
       "             ('DENOM_CIA', Utf8),\n",
       "             ('CD_CVM', Int64),\n",
       "             ('GRUPO_DFP', Utf8),\n",
       "             ('MOEDA', Utf8),\n",
       "             ('ESCALA_MOEDA', Utf8),\n",
       "             ('ORDEM_EXERC', Utf8),\n",
       "             ('DT_INI_EXERC', Date),\n",
       "             ('DT_FIM_EXERC', Date),\n",
       "             ('CD_CONTA', Utf8),\n",
       "             ('DS_CONTA', Utf8),\n",
       "             ('VL_CONTA', Float64),\n",
       "             ('ST_CONTA_FIXA', Utf8)])"
      ]
     },
     "execution_count": 12,
     "metadata": {},
     "output_type": "execute_result"
    }
   ],
   "source": [
    "df = read_files_from_lake('raw', 'dre')\n",
    "df.schema"
   ]
  },
  {
   "cell_type": "code",
   "execution_count": 94,
   "metadata": {},
   "outputs": [
    {
     "data": {
      "text/html": [
       "<div><style>\n",
       ".dataframe > thead > tr,\n",
       ".dataframe > tbody > tr {\n",
       "  text-align: right;\n",
       "  white-space: pre-wrap;\n",
       "}\n",
       "</style>\n",
       "<small>shape: (37, 5)</small><table border=\"1\" class=\"dataframe\"><thead><tr><th>DT_REFER</th><th>CD_CVM</th><th>CD_CONTA</th><th>DS_CONTA</th><th>VL_CONTA</th></tr><tr><td>date</td><td>i64</td><td>str</td><td>str</td><td>f64</td></tr></thead><tbody><tr><td>2022-06-30</td><td>1023</td><td>&quot;3.01&quot;</td><td>&quot;Receitas de In…</td><td>5.7469566e7</td></tr><tr><td>2022-06-30</td><td>1023</td><td>&quot;3.01.01&quot;</td><td>&quot;Receita de Jur…</td><td>5.7469566e7</td></tr><tr><td>2022-06-30</td><td>1023</td><td>&quot;3.02&quot;</td><td>&quot;Despesas de In…</td><td>-3.949672e7</td></tr><tr><td>2022-06-30</td><td>1023</td><td>&quot;3.02.01&quot;</td><td>&quot;Despesa de Jur…</td><td>-3.949672e7</td></tr><tr><td>2022-06-30</td><td>1023</td><td>&quot;3.03&quot;</td><td>&quot;Resultado Brut…</td><td>1.7972846e7</td></tr><tr><td>2022-06-30</td><td>1023</td><td>&quot;3.04&quot;</td><td>&quot;Outras Despesa…</td><td>-6.340451e6</td></tr><tr><td>2022-06-30</td><td>1023</td><td>&quot;3.04.01&quot;</td><td>&quot;Despesa de Pro…</td><td>-1.359403e6</td></tr><tr><td>2022-06-30</td><td>1023</td><td>&quot;3.04.02&quot;</td><td>&quot;Receitas de Pr…</td><td>5.951206e6</td></tr><tr><td>2022-06-30</td><td>1023</td><td>&quot;3.04.03&quot;</td><td>&quot;Despesas com P…</td><td>-6.343621e6</td></tr><tr><td>2022-06-30</td><td>1023</td><td>&quot;3.04.04&quot;</td><td>&quot;Outras Despesa…</td><td>-2.025277e6</td></tr><tr><td>2022-06-30</td><td>1023</td><td>&quot;3.04.05&quot;</td><td>&quot;Despesas Tribu…</td><td>-1.610363e6</td></tr><tr><td>2022-06-30</td><td>1023</td><td>&quot;3.04.06&quot;</td><td>&quot;Outras Receita…</td><td>2.285649e6</td></tr><tr><td>&hellip;</td><td>&hellip;</td><td>&hellip;</td><td>&hellip;</td><td>&hellip;</td></tr><tr><td>2022-06-30</td><td>1023</td><td>&quot;3.07&quot;</td><td>&quot;Lucro ou Preju…</td><td>8.721176e6</td></tr><tr><td>2022-06-30</td><td>1023</td><td>&quot;3.08&quot;</td><td>&quot;Resultado Líqu…</td><td>0.0</td></tr><tr><td>2022-06-30</td><td>1023</td><td>&quot;3.09&quot;</td><td>&quot;Lucro ou Preju…</td><td>8.721176e6</td></tr><tr><td>2022-06-30</td><td>1023</td><td>&quot;3.10&quot;</td><td>&quot;Participações …</td><td>0.0</td></tr><tr><td>2022-06-30</td><td>1023</td><td>&quot;3.11&quot;</td><td>&quot;Lucro ou Preju…</td><td>8.721176e6</td></tr><tr><td>2022-06-30</td><td>1023</td><td>&quot;3.11.01&quot;</td><td>&quot;Atribuído aos …</td><td>8.202219e6</td></tr><tr><td>2022-06-30</td><td>1023</td><td>&quot;3.11.02&quot;</td><td>&quot;Atribuído aos …</td><td>518957.0</td></tr><tr><td>2022-06-30</td><td>1023</td><td>&quot;3.99&quot;</td><td>&quot;Lucro por Ação…</td><td>0.0</td></tr><tr><td>2022-06-30</td><td>1023</td><td>&quot;3.99.01&quot;</td><td>&quot;Lucro Básico p…</td><td>0.0</td></tr><tr><td>2022-06-30</td><td>1023</td><td>&quot;3.99.01.01&quot;</td><td>&quot;ON&quot;</td><td>2.87</td></tr><tr><td>2022-06-30</td><td>1023</td><td>&quot;3.99.02&quot;</td><td>&quot;Lucro Diluído …</td><td>0.0</td></tr><tr><td>2022-06-30</td><td>1023</td><td>&quot;3.99.02.01&quot;</td><td>&quot;ON&quot;</td><td>2.87</td></tr></tbody></table></div>"
      ],
      "text/plain": [
       "shape: (37, 5)\n",
       "┌────────────┬────────┬────────────┬───────────────────────────────────┬─────────────┐\n",
       "│ DT_REFER   ┆ CD_CVM ┆ CD_CONTA   ┆ DS_CONTA                          ┆ VL_CONTA    │\n",
       "│ ---        ┆ ---    ┆ ---        ┆ ---                               ┆ ---         │\n",
       "│ date       ┆ i64    ┆ str        ┆ str                               ┆ f64         │\n",
       "╞════════════╪════════╪════════════╪═══════════════════════════════════╪═════════════╡\n",
       "│ 2022-06-30 ┆ 1023   ┆ 3.01       ┆ Receitas de Intermediação Financ… ┆ 5.7469566e7 │\n",
       "│ 2022-06-30 ┆ 1023   ┆ 3.01.01    ┆ Receita de Juros                  ┆ 5.7469566e7 │\n",
       "│ 2022-06-30 ┆ 1023   ┆ 3.02       ┆ Despesas de Intermediação Financ… ┆ -3.949672e7 │\n",
       "│ 2022-06-30 ┆ 1023   ┆ 3.02.01    ┆ Despesa de Juros                  ┆ -3.949672e7 │\n",
       "│ …          ┆ …      ┆ …          ┆ …                                 ┆ …           │\n",
       "│ 2022-06-30 ┆ 1023   ┆ 3.99.01    ┆ Lucro Básico por Ação             ┆ 0.0         │\n",
       "│ 2022-06-30 ┆ 1023   ┆ 3.99.01.01 ┆ ON                                ┆ 2.87        │\n",
       "│ 2022-06-30 ┆ 1023   ┆ 3.99.02    ┆ Lucro Diluído por Ação            ┆ 0.0         │\n",
       "│ 2022-06-30 ┆ 1023   ┆ 3.99.02.01 ┆ ON                                ┆ 2.87        │\n",
       "└────────────┴────────┴────────────┴───────────────────────────────────┴─────────────┘"
      ]
     },
     "execution_count": 94,
     "metadata": {},
     "output_type": "execute_result"
    }
   ],
   "source": [
    "dff = (\n",
    "    df\n",
    "    .with_columns(\n",
    "        rn_quarter = (pl.col('DT_INI_EXERC'))\n",
    "        .rank('ordinal',descending=True)\n",
    "        .over(['CNPJ_CIA', 'DT_REFER', 'CD_CONTA'])\n",
    "        )\n",
    "    .filter(pl.col('rn_quarter')==1)\n",
    "    .filter(pl.col('ORDEM_EXERC')=='ÚLTIMO')\n",
    "    .filter(pl.col('DT_FIM_EXERC')==datetime(2022, 6, 30))\n",
    "    .filter(pl.col('CD_CVM')==1023)\n",
    "    .sort(pl.col('CD_CONTA'))\n",
    "    .select(\n",
    "        pl.col('DT_REFER'),\n",
    "        pl.col('CD_CVM'),\n",
    "        pl.col('CD_CONTA'),\n",
    "        pl.col('DS_CONTA'),\n",
    "        pl.col('VL_CONTA')\n",
    "    )\n",
    ")\n",
    "dff"
   ]
  },
  {
   "cell_type": "code",
   "execution_count": 95,
   "metadata": {},
   "outputs": [],
   "source": [
    "dff.write_csv(source.OUTPUTS_DIR)"
   ]
  },
  {
   "cell_type": "markdown",
   "metadata": {},
   "source": [
    "Receita\n",
    "> 3.01\n",
    "\n",
    "Lucro\n",
    "> 3.11"
   ]
  },
  {
   "cell_type": "code",
   "execution_count": null,
   "metadata": {},
   "outputs": [],
   "source": []
  }
 ],
 "metadata": {
  "kernelspec": {
   "display_name": "Python 3",
   "language": "python",
   "name": "python3"
  },
  "language_info": {
   "codemirror_mode": {
    "name": "ipython",
    "version": 3
   },
   "file_extension": ".py",
   "mimetype": "text/x-python",
   "name": "python",
   "nbconvert_exporter": "python",
   "pygments_lexer": "ipython3",
   "version": "3.10.12"
  }
 },
 "nbformat": 4,
 "nbformat_minor": 2
}
