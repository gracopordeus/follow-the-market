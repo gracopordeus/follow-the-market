{
 "cells": [
  {
   "cell_type": "code",
   "execution_count": 1,
   "metadata": {},
   "outputs": [],
   "source": [
    "import requests\n",
    "from bs4 import BeautifulSoup\n",
    "import os\n",
    "import polars as pl\n",
    "from zipfile import ZipFile\n",
    "from datetime import datetime\n",
    "\n",
    "import utils.source\n",
    "from utils.request_market_data import (\n",
    "    request_prices_to_landing,\n",
    "    write_prices_to_raw,\n",
    "    read_prices_from_lake\n",
    ")\n",
    "\n",
    "from utils.request_cvm_ciasabertas import (\n",
    "    download_files,\n",
    "    read_files_from_landing,\n",
    "    write_files_to_lake,\n",
    "    read_files_from_lake,\n",
    "    trasnform_trusted_accounts,\n",
    "    trasnform_trusted_tickers\n",
    ")\n"
   ]
  },
  {
   "cell_type": "code",
   "execution_count": 3,
   "metadata": {},
   "outputs": [],
   "source": [
    "DOCUMENT = 'fca'\n",
    "REPORTS = ['valor_mobiliario']\n",
    "\n",
    "for REPORT in REPORTS:\n",
    "    DIR = DOCUMENT+'/'+REPORT\n",
    "    df = read_files_from_landing(DOCUMENT, REPORT)\n",
    "    write_files_to_lake(df, 'raw', DIR)\n",
    "    df = read_files_from_lake('raw', DIR)\n",
    "    df = trasnform_trusted_tickers(df)\n",
    "    write_files_to_lake(df, 'trusted', DIR)"
   ]
  },
  {
   "cell_type": "code",
   "execution_count": null,
   "metadata": {},
   "outputs": [],
   "source": []
  }
 ],
 "metadata": {
  "kernelspec": {
   "display_name": "Python 3",
   "language": "python",
   "name": "python3"
  },
  "language_info": {
   "codemirror_mode": {
    "name": "ipython",
    "version": 3
   },
   "file_extension": ".py",
   "mimetype": "text/x-python",
   "name": "python",
   "nbconvert_exporter": "python",
   "pygments_lexer": "ipython3",
   "version": "3.10.12"
  }
 },
 "nbformat": 4,
 "nbformat_minor": 2
}
